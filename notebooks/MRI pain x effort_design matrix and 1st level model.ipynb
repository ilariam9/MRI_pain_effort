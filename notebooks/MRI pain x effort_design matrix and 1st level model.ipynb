{
 "cells": [
  {
   "cell_type": "markdown",
   "id": "10617f04-1725-443a-9444-fac9bb2941bd",
   "metadata": {},
   "source": [
    "## Importing modules"
   ]
  },
  {
   "cell_type": "code",
   "execution_count": 2,
   "id": "7f7fe976",
   "metadata": {},
   "outputs": [],
   "source": [
    "import matplotlib.pyplot as plt\n",
    "import nilearn.image as image\n",
    "from nilearn.image import resample_to_img\n",
    "from nilearn import datasets\n",
    "from nilearn.maskers import NiftiMasker\n",
    "from nilearn.glm.first_level import FirstLevelModel\n",
    "from nilearn.plotting import plot_img, plot_anat, plot_stat_map, plot_roi, plot_design_matrix, plot_contrast_matrix, view_img\n",
    "import numpy as np\n",
    "import os\n",
    "import glob\n",
    "import nibabel as nib\n",
    "import pandas as pd\n",
    "from pathlib import Path\n",
    "import tracemalloc"
   ]
  },
  {
   "cell_type": "markdown",
   "id": "ec9aeade-9fb2-453d-a352-0e7b43f5c958",
   "metadata": {},
   "source": [
    "## Defining global variables"
   ]
  },
  {
   "cell_type": "code",
   "execution_count": 33,
   "id": "c367c8bb",
   "metadata": {},
   "outputs": [],
   "source": [
    "#path_data = '/data/rainville/PAINxEFFORT/PREPROCESSED_SPM'\n",
    "path_data= 'C:/Users/ilari/OneDrive - Universite de Montreal/EXP/MRI effort x pain/MRI images'\n",
    "path_events = 'C:/Users/ilari/OneDrive - Universite de Montreal/EXP/MRI effort x pain/Output/Python'\n",
    "path_mask = 'C:/Users/ilari/OneDrive - Universite de Montreal/EXP/MRI effort x pain/MRI images/output brain mask/gm_group_binarized_mask.nii'\n",
    "path_output = 'C:/Users/ilari/OneDrive - Universite de Montreal/EXP/MRI effort x pain/derivatives'\n",
    "\n",
    "sub = \"sub-001\"\n",
    "\n",
    "t_r = 0.832"
   ]
  },
  {
   "cell_type": "markdown",
   "id": "d7ad7b57-f16e-4fcf-bc0d-1284e9dfe7a0",
   "metadata": {},
   "source": [
    "### Defining the contrasts"
   ]
  },
  {
   "cell_type": "code",
   "execution_count": 34,
   "id": "f81ab785-07e6-4c9f-842a-dba7bd9f7a83",
   "metadata": {},
   "outputs": [],
   "source": [
    "def make_localizer_contrasts(design_matrix):\n",
    "    \"\"\"Return a dictionary of four contrasts, given the design matrix.\"\"\"\n",
    "    # first generate canonical contrasts\n",
    "       \n",
    "    contrast_matrix_run1 = np.eye(design_matrix.shape[1])\n",
    "    \n",
    "    contrasts = {\n",
    "        column: contrast_matrix_run1[i]\n",
    "        for i, column in enumerate(design_matrix.columns)\n",
    "    }\n",
    "\n",
    "    contrasts[\"pain\"] = (\n",
    "        contrasts[\"Pain_30\"]\n",
    "        + contrasts[\"Pain_5\"]\n",
    "    )\n",
    "\n",
    "    # one contrast adding all conditions involving warm\n",
    "    contrasts[\"warm\"] = (\n",
    "        contrasts[\"Warm_30\"]\n",
    "        + contrasts[\"Warm_5\"]\n",
    "    )\n",
    "      # one contrast adding all conditions involving thermal stimulation\n",
    "    contrasts[\"thermal_stimulation\"] = (\n",
    "        contrasts[\"warm\"]\n",
    "        + contrasts[\"pain\"]\n",
    "    )\n",
    "      # one contrast adding all conditions involving all contractions during thermal stimulations\n",
    "    contrasts[\"all_contractions_during_stim\"] = (\n",
    "        contrasts[\"ContractionWarm_5\"] + contrasts[\"ContractionPain_5\"] + contrasts[\"ContractionWarm_30\"] \n",
    "        + contrasts[\"ContractionPain_30\"]\n",
    "    )\n",
    "      # one contrast adding all conditions involving all contractions solo\n",
    "    contrasts[\"all_contractions_solo\"] = (\n",
    "        contrasts[\"ContractionSolo_5\"] + contrasts[\"ContractionSolo_30\"] \n",
    "    )\n",
    "\n",
    "\n",
    "    # one contrast adding all conditions involving contraction at 5%\n",
    "    contrasts[\"contraction_5\"] = (\n",
    "        contrasts[\"ContractionSolo_5\"] + contrasts[\"ContractionWarm_5\"] + contrasts[\"ContractionPain_5\"]\n",
    "    )\n",
    "\n",
    "    # one contrast adding all conditions involving contraction at 30%\n",
    "    contrasts[\"contraction_30\"] = (\n",
    "        contrasts[\"ContractionSolo_30\"] + contrasts[\"ContractionWarm_30\"] + contrasts[\"ContractionPain_30\"]\n",
    "    )\n",
    "\n",
    "       # one contrast adding all conditions involving contraction during warm\n",
    "    contrasts[\"contraction_warm\"] = (\n",
    "        contrasts[\"ContractionWarm_30\"] + contrasts[\"ContractionWarm_5\"]\n",
    "    )\n",
    "    \n",
    "    \n",
    "          # one contrast adding all conditions involving contraction during pain\n",
    "    contrasts[\"contraction_pain\"] = (\n",
    "        contrasts[\"ContractionPain_30\"] + contrasts[\"ContractionPain_5\"]\n",
    "    )\n",
    "    \n",
    "\n",
    "    # Short dictionary of more relevant contrasts\n",
    "    contrasts = {\n",
    "        \"pain - warm\": (\n",
    "            contrasts[\"pain\"]\n",
    "            - contrasts[\"warm\"]\n",
    "        ),\n",
    "        \"contraction 30%-5%\": contrasts[\"contraction_30\"] - contrasts[\"contraction_5\"],\n",
    "        \"contraction Warm-Pain\": (\n",
    "            contrasts[\"contraction_pain\"] - contrasts[\"contraction_warm\"]\n",
    "        ),\n",
    "        \"contraction 5%_pain - warm\": (\n",
    "            contrasts[\"ContractionPain_5\"]\n",
    "            - contrasts[\"ContractionWarm_5\"]\n",
    "        ),\n",
    "        \"contraction 30%_pain - warm\": (\n",
    "            contrasts[\"ContractionPain_30\"]\n",
    "            - contrasts[\"ContractionWarm_30\"]\n",
    "        ),\n",
    "         \"contraction pain_30% - 5%\": (\n",
    "            contrasts[\"ContractionPain_30\"]\n",
    "            - contrasts[\"ContractionPain_5\"]\n",
    "        ),\n",
    "         \"contractionSolo 30%-5%\": (\n",
    "            contrasts[\"ContractionSolo_30\"]\n",
    "            - contrasts[\"ContractionSolo_5\"]\n",
    "        ),\n",
    "        \"all contraction thermal stim - thermal stim\": (\n",
    "            contrasts[\"all_contractions_during_stim\"]\n",
    "            - contrasts[\"thermal_stimulation\"]\n",
    "        ),\n",
    "    }\n",
    "    return contrasts"
   ]
  },
  {
   "cell_type": "markdown",
   "id": "7d3efb42",
   "metadata": {},
   "source": [
    "# run first level model for all run of a participant "
   ]
  },
  {
   "cell_type": "code",
   "execution_count": 40,
   "id": "55af55bb",
   "metadata": {},
   "outputs": [],
   "source": [
    "#all runs\n",
    "def run_first_level_trial(path_data, path_events, path_mask, path_output, sub, t_r=0.832, contrasts=['pain - warm', 'contraction 30%-5%', 'contractionSolo 30%-5%', 'all contraction thermal stim - thermal stim']):\n",
    "    \"\"\"\n",
    "    Parameters\n",
    "    ----------\n",
    "    path_data: str\n",
    "        Directory containing the bold files\n",
    "    path_events: str\n",
    "        Directory containing the event files\n",
    "    path_mask: str\n",
    "        Path to the group mask\n",
    "    path_output: str\n",
    "        Outputs path\n",
    "    sub: str\n",
    "        Subject id\n",
    "    t_r: float\n",
    "        Repetition time\n",
    "    \"\"\"\n",
    "    # Create output path if doesn't exit\n",
    "    Path(path_output).mkdir(parents=True, exist_ok=True)\n",
    "    \n",
    "    #output_dir = os.path.join(path_output)\n",
    "    #os.makedirs(output_dir, exist_ok=True)\n",
    "    #print(\"Output directory:\", output_dir)  # Debug\n",
    "    \n",
    "    # Load mask\n",
    "    mask = nib.load(path_mask)\n",
    "    # Events files\n",
    "    events = [os.path.join(path_events, sub, e) for e in os.listdir(os.path.join(path_events, sub)) if \"events\" in e]\n",
    "    events.sort()\n",
    "    print(events)\n",
    "    events = [pd.read_excel(e) for e in events]\n",
    "    \n",
    "    \n",
    "    # Bold path\n",
    "    bolds = [os.path.join(path_data,sub,\"func\",b) for b in os.listdir(os.path.join(path_data, sub ,\"func\")) if \"swvrsub\" in b and not b.startswith(\"._\")]\n",
    "    bolds.sort()\n",
    "    print(bolds)\n",
    "\n",
    "    dict_trials = {}\n",
    "\n",
    "\n",
    "    for idx, (event, bold) in enumerate(zip(events, bolds), start=1):\n",
    "        p = Path(bold)\n",
    "        filename = \"_\".join(p.stem.split(\"_\")[:-1] )\n",
    "        print(filename)\n",
    "        \n",
    "        # Define model\n",
    "        first_level_model = FirstLevelModel(t_r, mask_img=mask)\n",
    "        # Fit the model\n",
    "        fmri_glm = first_level_model.fit(bold, events=event)\n",
    "    \n",
    "        #  list of design matrices for each run\n",
    "        design_matrices = fmri_glm.design_matrices_\n",
    "        design_matrices[0].to_csv(os.path.join(path_output, sub, filename+\"_desc-design_matrices.tsv.gz\"))\n",
    "        \n",
    "            \n",
    "        # Call the function to generate contrasts for all runs\n",
    "        localizer_contrasts = []\n",
    "        for design_matrix in fmri_glm.design_matrices_:\n",
    "            localizer_contrasts.append(make_localizer_contrasts(design_matrix))\n",
    "    \n",
    "        # Compute the contrasts\n",
    "        dict_maps = {}\n",
    "        for contrast in contrasts:\n",
    "            localizer_contrast = [i[contrast] for i in localizer_contrasts]\n",
    "            beta_map = fmri_glm.compute_contrast(localizer_contrast, output_type='effect_size')\n",
    "            nib.save(beta_map, os.path.join(path_output, sub, filename+f'_desc-{contrast}-maps.nii.gz'))\n",
    "            dict_maps[contrast] = beta_map\n",
    "        dict_trials[f\"run-0{idx}\"] = dict_maps\n",
    "       \n",
    "    \n",
    "    return dict_trials\n",
    "    \n",
    "    "
   ]
  },
  {
   "cell_type": "code",
   "execution_count": null,
   "id": "efabbde4",
   "metadata": {},
   "outputs": [],
   "source": []
  },
  {
   "cell_type": "code",
   "execution_count": 41,
   "id": "6b1c28eb",
   "metadata": {},
   "outputs": [],
   "source": [
    "bolds = [os.path.join(path_data,sub,\"func\",b) for b in os.listdir(os.path.join(path_data, sub ,\"func\")) if \"swvrsub\" in b and not b.startswith(\"._\")]"
   ]
  },
  {
   "cell_type": "code",
   "execution_count": null,
   "id": "2ab1c8fa",
   "metadata": {},
   "outputs": [],
   "source": []
  },
  {
   "cell_type": "code",
   "execution_count": 42,
   "id": "eb89870c",
   "metadata": {
    "scrolled": true
   },
   "outputs": [
    {
     "name": "stdout",
     "output_type": "stream",
     "text": [
      "['C:/Users/ilari/OneDrive - Universite de Montreal/EXP/MRI effort x pain/Output/Python\\\\sub-001\\\\sub-001_events_run1.xlsx', 'C:/Users/ilari/OneDrive - Universite de Montreal/EXP/MRI effort x pain/Output/Python\\\\sub-001\\\\sub-001_events_run2.xlsx', 'C:/Users/ilari/OneDrive - Universite de Montreal/EXP/MRI effort x pain/Output/Python\\\\sub-001\\\\sub-001_events_run3.xlsx', 'C:/Users/ilari/OneDrive - Universite de Montreal/EXP/MRI effort x pain/Output/Python\\\\sub-001\\\\sub-001_events_run4.xlsx']\n",
      "['C:/Users/ilari/OneDrive - Universite de Montreal/EXP/MRI effort x pain/MRI images\\\\sub-001\\\\func\\\\swvrsub-001_task-pain_run-01_bold.nii', 'C:/Users/ilari/OneDrive - Universite de Montreal/EXP/MRI effort x pain/MRI images\\\\sub-001\\\\func\\\\swvrsub-001_task-pain_run-02_bold.nii', 'C:/Users/ilari/OneDrive - Universite de Montreal/EXP/MRI effort x pain/MRI images\\\\sub-001\\\\func\\\\swvrsub-001_task-pain_run-03_bold.nii', 'C:/Users/ilari/OneDrive - Universite de Montreal/EXP/MRI effort x pain/MRI images\\\\sub-001\\\\func\\\\swvrsub-001_task-pain_run-04_bold.nii']\n",
      "swvrsub-001_task-pain_run-01\n",
      "swvrsub-001_task-pain_run-02\n",
      "swvrsub-001_task-pain_run-03\n",
      "swvrsub-001_task-pain_run-04\n"
     ]
    }
   ],
   "source": [
    "dict_sub001 = run_first_level_trial(path_data, path_events, path_mask, path_output, sub, t_r=0.832, contrasts=['pain - warm', 'contraction 30%-5%', 'contractionSolo 30%-5%', 'all contraction thermal stim - thermal stim'])"
   ]
  },
  {
   "cell_type": "code",
   "execution_count": 43,
   "id": "0c8ae686",
   "metadata": {},
   "outputs": [
    {
     "data": {
      "text/plain": [
       "{'run-01': {'pain - warm': <nibabel.nifti1.Nifti1Image at 0x1a53d6853d0>,\n",
       "  'contraction 30%-5%': <nibabel.nifti1.Nifti1Image at 0x1a53fe5c160>,\n",
       "  'contractionSolo 30%-5%': <nibabel.nifti1.Nifti1Image at 0x1a5403439d0>,\n",
       "  'all contraction thermal stim - thermal stim': <nibabel.nifti1.Nifti1Image at 0x1a53d3ddbe0>},\n",
       " 'run-02': {'pain - warm': <nibabel.nifti1.Nifti1Image at 0x1a5403ebcd0>,\n",
       "  'contraction 30%-5%': <nibabel.nifti1.Nifti1Image at 0x1a5403eb3d0>,\n",
       "  'contractionSolo 30%-5%': <nibabel.nifti1.Nifti1Image at 0x1a5403ebbe0>,\n",
       "  'all contraction thermal stim - thermal stim': <nibabel.nifti1.Nifti1Image at 0x1a5403eb550>},\n",
       " 'run-03': {'pain - warm': <nibabel.nifti1.Nifti1Image at 0x1a5403eb370>,\n",
       "  'contraction 30%-5%': <nibabel.nifti1.Nifti1Image at 0x1a5403ebb20>,\n",
       "  'contractionSolo 30%-5%': <nibabel.nifti1.Nifti1Image at 0x1a53d685550>,\n",
       "  'all contraction thermal stim - thermal stim': <nibabel.nifti1.Nifti1Image at 0x1a54034a0d0>},\n",
       " 'run-04': {'pain - warm': <nibabel.nifti1.Nifti1Image at 0x1a53d3dd1f0>,\n",
       "  'contraction 30%-5%': <nibabel.nifti1.Nifti1Image at 0x1a53fe5c3a0>,\n",
       "  'contractionSolo 30%-5%': <nibabel.nifti1.Nifti1Image at 0x1a53d3dd1c0>,\n",
       "  'all contraction thermal stim - thermal stim': <nibabel.nifti1.Nifti1Image at 0x1a53d34e640>}}"
      ]
     },
     "execution_count": 43,
     "metadata": {},
     "output_type": "execute_result"
    }
   ],
   "source": [
    "dict_sub001"
   ]
  },
  {
   "cell_type": "code",
   "execution_count": null,
   "id": "aa985539",
   "metadata": {},
   "outputs": [],
   "source": []
  }
 ],
 "metadata": {
  "kernelspec": {
   "display_name": "Python 3 (ipykernel)",
   "language": "python",
   "name": "python3"
  },
  "language_info": {
   "codemirror_mode": {
    "name": "ipython",
    "version": 3
   },
   "file_extension": ".py",
   "mimetype": "text/x-python",
   "name": "python",
   "nbconvert_exporter": "python",
   "pygments_lexer": "ipython3",
   "version": "3.9.7"
  }
 },
 "nbformat": 4,
 "nbformat_minor": 5
}
